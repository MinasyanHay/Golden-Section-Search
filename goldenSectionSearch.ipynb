{
 "cells": [
  {
   "cell_type": "code",
   "execution_count": 11,
   "id": "31c98646-6f5c-4033-8f96-adc741b0217d",
   "metadata": {},
   "outputs": [],
   "source": [
    "def goldenSectionSearch(f, a, b, tol = 1e-5):\n",
    "    #golden ratio\n",
    "    gr = (1 + 5**0.5)/2\n",
    "    c = b - (b - a) / gr\n",
    "    d = a  + (b - a) / gr\n",
    "    while abs(c - d) > tol:\n",
    "        if f(c) < f(d):\n",
    "            b = d\n",
    "        else:\n",
    "            a = c\n",
    "        #update points\n",
    "        c = b - (b - a) / gr\n",
    "        d = a + (b - a) / gr \n",
    "    return (a + b) / 2\n",
    "    "
   ]
  },
  {
   "cell_type": "code",
   "execution_count": 12,
   "id": "0c21aeb6-99a5-481a-8690-37fdffa07851",
   "metadata": {},
   "outputs": [],
   "source": [
    "import math\n",
    "def f(x):\n",
    "    return (x - 2) ** 2 + 1\n",
    "    "
   ]
  },
  {
   "cell_type": "code",
   "execution_count": 13,
   "id": "2bfc731d-f579-4acf-80d8-66fd49e11a25",
   "metadata": {},
   "outputs": [],
   "source": [
    "a = 0\n",
    "b = 4\n",
    "min = goldenSectionSearch(f, a, b)"
   ]
  },
  {
   "cell_type": "code",
   "execution_count": 15,
   "id": "4b9d4d25-985d-4e61-80d5-dc972bb518cd",
   "metadata": {},
   "outputs": [
    {
     "name": "stdout",
     "output_type": "stream",
     "text": [
      "The minimum value is approximately at x = 2.0\n"
     ]
    }
   ],
   "source": [
    "print(f\"The minimum value is approximately at x = {min}\")"
   ]
  },
  {
   "cell_type": "code",
   "execution_count": null,
   "id": "cbb626bd-40b5-4178-adae-30cf4fbf9eeb",
   "metadata": {},
   "outputs": [],
   "source": []
  },
  {
   "cell_type": "code",
   "execution_count": null,
   "id": "125e0011-a0fd-48a4-87f1-eae316f73f55",
   "metadata": {},
   "outputs": [],
   "source": []
  }
 ],
 "metadata": {
  "kernelspec": {
   "display_name": "Python 3 (ipykernel)",
   "language": "python",
   "name": "python3"
  },
  "language_info": {
   "codemirror_mode": {
    "name": "ipython",
    "version": 3
   },
   "file_extension": ".py",
   "mimetype": "text/x-python",
   "name": "python",
   "nbconvert_exporter": "python",
   "pygments_lexer": "ipython3",
   "version": "3.12.4"
  }
 },
 "nbformat": 4,
 "nbformat_minor": 5
}
